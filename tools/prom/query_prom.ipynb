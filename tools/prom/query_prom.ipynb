{
 "cells": [
  {
   "cell_type": "markdown",
   "metadata": {},
   "source": [
    "# Example querying Prometheus\n",
    "\n",
    "Prometheus is queried using the http api. "
   ]
  },
  {
   "cell_type": "code",
   "execution_count": 10,
   "metadata": {},
   "outputs": [],
   "source": [
    "import time \n",
    "import requests\n",
    "import numpy as np\n",
    "import matplotlib\n",
    "import matplotlib.pyplot as plt\n",
    "plt.style.use(\"seaborn\")"
   ]
  },
  {
   "cell_type": "markdown",
   "metadata": {},
   "source": [
    "## Prometheus url"
   ]
  },
  {
   "cell_type": "code",
   "execution_count": null,
   "metadata": {},
   "outputs": [],
   "source": [
    "promsrv = \"http://localhost:9090\""
   ]
  },
  {
   "cell_type": "markdown",
   "metadata": {},
   "source": [
    "## Query and store the data into two numpy arrays (ib, ost)"
   ]
  },
  {
   "cell_type": "code",
   "execution_count": 52,
   "metadata": {},
   "outputs": [],
   "source": [
    "# select time interval\n",
    "stop = time.time()\n",
    "start = stop - 60 * 15\n",
    "#stop = 1530226822.0 + 120 \n",
    "#start = stop - 200\n",
    "\n",
    "# Query for psexport infiniband rate \n",
    "query = 'irate(node_infiniband_port_data_received_bytes{group=\"dtn\", instance=~\"psexport08.*\"}[10s])'\n",
    "payload = {'query': query,\n",
    "           'start': int(start), 'end': int(stop), 'step': '5s'}\n",
    "url = \"{}/api/v1/query_range\".format(promsrv)\n",
    "r = requests.get(url, params=payload)\n",
    "\n",
    "data = r.json()\n",
    "point = data['data']['result'][0]\n",
    "ib = np.array(point['values'], float).transpose()\n",
    "ib[1] /= pow(2,20)\n",
    "\n",
    "#Query OST zpool read rate of ana02, sum all osts \n",
    "query_zfs = 'sum(irate(node_zfs_zpool_nread{group=\"ana02\"}[10s]))'\n",
    "payload = {'query': query_zfs,\n",
    "           'start': int(start), 'end': int(stop), 'step': '5s' }\n",
    "\n",
    "url = \"{}/api/v1/query_range\".format(promsrv)\n",
    "r = requests.get(url, params=payload)\n",
    "data = r.json()\n",
    "point = data['data']['result'][0]\n",
    "ost = np.array(point['values'], float).transpose()\n",
    "ost[1] /= pow(2,20)\n",
    "\n",
    "#for point in res: \n",
    "#    #print(point['metric'])\n",
    "#    #print(\"   \", point['values'])"
   ]
  },
  {
   "cell_type": "markdown",
   "metadata": {},
   "source": [
    "## Plotting"
   ]
  },
  {
   "cell_type": "code",
   "execution_count": 53,
   "metadata": {},
   "outputs": [
    {
     "data": {
      "image/png": "[encoded data removed]",
      "text/plain": [
       "<Figure size 576x396 with 1 Axes>"
      ]
     },
     "metadata": {},
     "output_type": "display_data"
    }
   ],
   "source": [
    "plt.scatter(ost[0], ost[1], marker='.', c='r', label=\"ost read\")\n",
    "plt.scatter(ib[0], ib[1], marker='+', c='g', label=\"ib read psexport\")\n",
    "plt.xlabel(\"unix time\")\n",
    "plt.ylabel(\"rate [MiB/s]\")\n",
    "plt.legend()\n",
    "plt.show()"
   ]
  },
  {
   "cell_type": "code",
   "execution_count": null,
   "metadata": {},
   "outputs": [],
   "source": []
  }
 ],
 "metadata": {
  "kernelspec": {
   "display_name": "Python 3",
   "language": "python",
   "name": "python3"
  },
  "language_info": {
   "codemirror_mode": {
    "name": "ipython",
    "version": 3
   },
   "file_extension": ".py",
   "mimetype": "text/x-python",
   "name": "python",
   "nbconvert_exporter": "python",
   "pygments_lexer": "ipython3",
   "version": "3.6.6"
  }
 },
 "nbformat": 4,
 "nbformat_minor": 2
}
