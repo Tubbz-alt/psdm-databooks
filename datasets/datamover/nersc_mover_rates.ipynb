{
 "cells": [
  {
   "cell_type": "markdown",
   "metadata": {},
   "source": [
    "# Data transfer rates for the SLAC -> NERSC transfers\n",
    "\n",
    "Files are moved using XRootD from SLAC (psexport) to NERSC (dtn). The tranfer rates are the\n",
    "file size divided by the elapsed time."
   ]
  },
  {
   "cell_type": "code",
   "execution_count": 26,
   "metadata": {},
   "outputs": [],
   "source": [
    "import pandas as pd\n",
    "import matplotlib.pyplot as plt\n",
    "plt.style.use(\"seaborn\")"
   ]
  },
  {
   "cell_type": "code",
   "execution_count": 27,
   "metadata": {},
   "outputs": [],
   "source": [
    "fn = \"/home/wilko/data/nersc_trans.20180621T001600.csv\"\n",
    "d = pd.read_csv(fn)\n",
    "d.rate /= pow(2,20)\n",
    "d.fsize /= pow(2,30)\n",
    "d['elap'] = d.stopt - d.startt"
   ]
  },
  {
   "cell_type": "code",
   "execution_count": 28,
   "metadata": {},
   "outputs": [
    {
     "data": {
      "text/html": [
       "<div>\n",
       "<style scoped>\n",
       "    .dataframe tbody tr th:only-of-type {\n",
       "        vertical-align: middle;\n",
       "    }\n",
       "\n",
       "    .dataframe tbody tr th {\n",
       "        vertical-align: top;\n",
       "    }\n",
       "\n",
       "    .dataframe thead th {\n",
       "        text-align: right;\n",
       "    }\n",
       "</style>\n",
       "<table border=\"1\" class=\"dataframe\">\n",
       "  <thead>\n",
       "    <tr style=\"text-align: right;\">\n",
       "      <th></th>\n",
       "      <th>startt</th>\n",
       "      <th>stopt</th>\n",
       "      <th>fsize</th>\n",
       "      <th>rate</th>\n",
       "      <th>rc</th>\n",
       "      <th>fn</th>\n",
       "      <th>elap</th>\n",
       "    </tr>\n",
       "  </thead>\n",
       "  <tbody>\n",
       "    <tr>\n",
       "      <th>0</th>\n",
       "      <td>1.498435e+09</td>\n",
       "      <td>1.498435e+09</td>\n",
       "      <td>0.848087</td>\n",
       "      <td>188.791540</td>\n",
       "      <td>0</td>\n",
       "      <td>/psdm/cxi/cxi08216/xtc/e837-r0027-s00-c00.xtc</td>\n",
       "      <td>4.6</td>\n",
       "    </tr>\n",
       "    <tr>\n",
       "      <th>1</th>\n",
       "      <td>1.498435e+09</td>\n",
       "      <td>1.498435e+09</td>\n",
       "      <td>1.526408</td>\n",
       "      <td>214.115362</td>\n",
       "      <td>0</td>\n",
       "      <td>/psdm/cxi/cxilp6715/xtc/e983-r0068-s00-c00.xtc</td>\n",
       "      <td>7.3</td>\n",
       "    </tr>\n",
       "    <tr>\n",
       "      <th>2</th>\n",
       "      <td>1.498435e+09</td>\n",
       "      <td>1.498436e+09</td>\n",
       "      <td>92.017381</td>\n",
       "      <td>271.544086</td>\n",
       "      <td>0</td>\n",
       "      <td>/psdm/cxi/cxilp6715/xtc/e983-r0069-s00-c00.xtc</td>\n",
       "      <td>347.0</td>\n",
       "    </tr>\n",
       "    <tr>\n",
       "      <th>3</th>\n",
       "      <td>1.498436e+09</td>\n",
       "      <td>1.498436e+09</td>\n",
       "      <td>69.294308</td>\n",
       "      <td>262.125496</td>\n",
       "      <td>0</td>\n",
       "      <td>/psdm/cxi/cxilp6715/xtc/e983-r0069-s00-c01.xtc</td>\n",
       "      <td>270.7</td>\n",
       "    </tr>\n",
       "    <tr>\n",
       "      <th>4</th>\n",
       "      <td>1.498436e+09</td>\n",
       "      <td>1.498437e+09</td>\n",
       "      <td>92.013082</td>\n",
       "      <td>225.896419</td>\n",
       "      <td>0</td>\n",
       "      <td>/psdm/cxi/cxilp6715/xtc/e983-r0070-s00-c00.xtc</td>\n",
       "      <td>417.1</td>\n",
       "    </tr>\n",
       "  </tbody>\n",
       "</table>\n",
       "</div>"
      ],
      "text/plain": [
       "         startt         stopt      fsize        rate  rc  \\\n",
       "0  1.498435e+09  1.498435e+09   0.848087  188.791540   0   \n",
       "1  1.498435e+09  1.498435e+09   1.526408  214.115362   0   \n",
       "2  1.498435e+09  1.498436e+09  92.017381  271.544086   0   \n",
       "3  1.498436e+09  1.498436e+09  69.294308  262.125496   0   \n",
       "4  1.498436e+09  1.498437e+09  92.013082  225.896419   0   \n",
       "\n",
       "                                               fn   elap  \n",
       "0   /psdm/cxi/cxi08216/xtc/e837-r0027-s00-c00.xtc    4.6  \n",
       "1  /psdm/cxi/cxilp6715/xtc/e983-r0068-s00-c00.xtc    7.3  \n",
       "2  /psdm/cxi/cxilp6715/xtc/e983-r0069-s00-c00.xtc  347.0  \n",
       "3  /psdm/cxi/cxilp6715/xtc/e983-r0069-s00-c01.xtc  270.7  \n",
       "4  /psdm/cxi/cxilp6715/xtc/e983-r0070-s00-c00.xtc  417.1  "
      ]
     },
     "execution_count": 28,
     "metadata": {},
     "output_type": "execute_result"
    }
   ],
   "source": [
    "d.head()"
   ]
  },
  {
   "cell_type": "code",
   "execution_count": 29,
   "metadata": {},
   "outputs": [
    {
     "data": {
      "image/png": "[encoded data removed]",
      "text/plain": [
       "<Figure size 1080x720 with 4 Axes>"
      ]
     },
     "metadata": {},
     "output_type": "display_data"
    }
   ],
   "source": [
    "fig = plt.figure(figsize=(15,10))\n",
    "\n",
    "ax = fig.add_subplot(2,2,1)\n",
    "d.loc[ d.rate < 1000 ].rate.hist(bins=100)\n",
    "plt.xlabel(\"rate [MiB/s]\")\n",
    "plt.ylabel(\"counts\")\n",
    "ax.set_yscale(\"log\")\n",
    "\n",
    "ax = fig.add_subplot(2,2,2)\n",
    "d.loc[ d.rate < 1000 ].fsize.hist(bins=100)\n",
    "plt.xlabel(\"size [GiB]\")\n",
    "plt.ylabel(\"counts\")\n",
    "ax.set_yscale(\"log\")\n",
    "\n",
    "ax = fig.add_subplot(2,2,3)\n",
    "d.loc[ (d.rate < 1000) & (d.rate < 600) & (d.fsize > 1.0) ].rate.hist(bins=100)\n",
    "plt.xlabel(\"rate [MiB/s]\")\n",
    "plt.ylabel(\"counts\")\n",
    "ax.set_yscale(\"log\")\n",
    "\n",
    "ax = fig.add_subplot(2,2,4)\n",
    "d.loc[ (d.elap < 10) ].elap.hist(bins=10)\n",
    "plt.xlabel(\"elapsed time [s]\")\n",
    "plt.ylabel(\"counts\")\n",
    "ax.set_yscale(\"log\")\n"
   ]
  },
  {
   "cell_type": "code",
   "execution_count": null,
   "metadata": {},
   "outputs": [],
   "source": []
  }
 ],
 "metadata": {
  "kernelspec": {
   "display_name": "Python 3",
   "language": "python",
   "name": "python3"
  },
  "language_info": {
   "codemirror_mode": {
    "name": "ipython",
    "version": 3
   },
   "file_extension": ".py",
   "mimetype": "text/x-python",
   "name": "python",
   "nbconvert_exporter": "python",
   "pygments_lexer": "ipython3",
   "version": "3.6.5"
  }
 },
 "nbformat": 4,
 "nbformat_minor": 2
}
