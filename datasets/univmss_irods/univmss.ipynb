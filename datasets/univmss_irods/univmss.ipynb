{
 "cells": [
  {
   "cell_type": "code",
   "execution_count": 2,
   "metadata": {},
   "outputs": [],
   "source": [
    "import matplotlib.pyplot as plt\n",
    "plt.style.use('classic')\n",
    "\n",
    "import numpy as np\n",
    "import pandas as pd\n",
    "import seaborn as sns\n",
    "sns.set()"
   ]
  },
  {
   "cell_type": "code",
   "execution_count": 119,
   "metadata": {},
   "outputs": [],
   "source": [
    "mss = pd.read_csv(\"mss_ms.csv.gz\")\n",
    "mss['rate'] = mss['fsz'] / mss['elap'] * 1000 / pow(2,20)\n",
    "mss['gb'] = mss['fsz'] / pow(2,30)"
   ]
  },
  {
   "cell_type": "code",
   "execution_count": 120,
   "metadata": {},
   "outputs": [
    {
     "data": {
      "text/html": [
       "<div>\n",
       "<style scoped>\n",
       "    .dataframe tbody tr th:only-of-type {\n",
       "        vertical-align: middle;\n",
       "    }\n",
       "\n",
       "    .dataframe tbody tr th {\n",
       "        vertical-align: top;\n",
       "    }\n",
       "\n",
       "    .dataframe thead th {\n",
       "        text-align: right;\n",
       "    }\n",
       "</style>\n",
       "<table border=\"1\" class=\"dataframe\">\n",
       "  <thead>\n",
       "    <tr style=\"text-align: right;\">\n",
       "      <th></th>\n",
       "      <th>instr</th>\n",
       "      <th>ftype</th>\n",
       "      <th>start</th>\n",
       "      <th>fsz</th>\n",
       "      <th>elap</th>\n",
       "      <th>ttype</th>\n",
       "      <th>fsid</th>\n",
       "      <th>nstripe</th>\n",
       "      <th>stripe0</th>\n",
       "      <th>stripeall</th>\n",
       "      <th>rate</th>\n",
       "      <th>gb</th>\n",
       "    </tr>\n",
       "  </thead>\n",
       "  <tbody>\n",
       "    <tr>\n",
       "      <th>0</th>\n",
       "      <td>amo</td>\n",
       "      <td>0</td>\n",
       "      <td>1541548440</td>\n",
       "      <td>6512513552</td>\n",
       "      <td>194000</td>\n",
       "      <td>-1</td>\n",
       "      <td>3</td>\n",
       "      <td>1</td>\n",
       "      <td>2</td>\n",
       "      <td>2</td>\n",
       "      <td>32.014520</td>\n",
       "      <td>6.065251</td>\n",
       "    </tr>\n",
       "    <tr>\n",
       "      <th>1</th>\n",
       "      <td>amo</td>\n",
       "      <td>0</td>\n",
       "      <td>1541548564</td>\n",
       "      <td>6512592392</td>\n",
       "      <td>318000</td>\n",
       "      <td>-1</td>\n",
       "      <td>3</td>\n",
       "      <td>1</td>\n",
       "      <td>9</td>\n",
       "      <td>9</td>\n",
       "      <td>19.531107</td>\n",
       "      <td>6.065324</td>\n",
       "    </tr>\n",
       "    <tr>\n",
       "      <th>2</th>\n",
       "      <td>amo</td>\n",
       "      <td>0</td>\n",
       "      <td>1541548498</td>\n",
       "      <td>5794248176</td>\n",
       "      <td>252000</td>\n",
       "      <td>-1</td>\n",
       "      <td>3</td>\n",
       "      <td>1</td>\n",
       "      <td>8</td>\n",
       "      <td>8</td>\n",
       "      <td>21.927880</td>\n",
       "      <td>5.396314</td>\n",
       "    </tr>\n",
       "    <tr>\n",
       "      <th>3</th>\n",
       "      <td>amo</td>\n",
       "      <td>0</td>\n",
       "      <td>1541548546</td>\n",
       "      <td>5794204604</td>\n",
       "      <td>300000</td>\n",
       "      <td>-1</td>\n",
       "      <td>3</td>\n",
       "      <td>1</td>\n",
       "      <td>3</td>\n",
       "      <td>3</td>\n",
       "      <td>18.419280</td>\n",
       "      <td>5.396274</td>\n",
       "    </tr>\n",
       "    <tr>\n",
       "      <th>4</th>\n",
       "      <td>amo</td>\n",
       "      <td>0</td>\n",
       "      <td>1541548558</td>\n",
       "      <td>6139385800</td>\n",
       "      <td>312000</td>\n",
       "      <td>-1</td>\n",
       "      <td>3</td>\n",
       "      <td>1</td>\n",
       "      <td>15</td>\n",
       "      <td>15</td>\n",
       "      <td>18.765944</td>\n",
       "      <td>5.717749</td>\n",
       "    </tr>\n",
       "  </tbody>\n",
       "</table>\n",
       "</div>"
      ],
      "text/plain": [
       "  instr  ftype       start         fsz    elap  ttype  fsid  nstripe  stripe0  \\\n",
       "0   amo      0  1541548440  6512513552  194000     -1     3        1        2   \n",
       "1   amo      0  1541548564  6512592392  318000     -1     3        1        9   \n",
       "2   amo      0  1541548498  5794248176  252000     -1     3        1        8   \n",
       "3   amo      0  1541548546  5794204604  300000     -1     3        1        3   \n",
       "4   amo      0  1541548558  6139385800  312000     -1     3        1       15   \n",
       "\n",
       "   stripeall       rate        gb  \n",
       "0          2  32.014520  6.065251  \n",
       "1          9  19.531107  6.065324  \n",
       "2          8  21.927880  5.396314  \n",
       "3          3  18.419280  5.396274  \n",
       "4         15  18.765944  5.717749  "
      ]
     },
     "execution_count": 120,
     "metadata": {},
     "output_type": "execute_result"
    }
   ],
   "source": [
    "mss.head()"
   ]
  },
  {
   "cell_type": "code",
   "execution_count": 121,
   "metadata": {},
   "outputs": [
    {
     "name": "stdout",
     "output_type": "stream",
     "text": [
      "<class 'pandas.core.frame.DataFrame'>\n",
      "RangeIndex: 125301 entries, 0 to 125300\n",
      "Data columns (total 12 columns):\n",
      "instr        125301 non-null object\n",
      "ftype        125301 non-null int64\n",
      "start        125301 non-null int64\n",
      "fsz          125301 non-null int64\n",
      "elap         125301 non-null int64\n",
      "ttype        125301 non-null int64\n",
      "fsid         125301 non-null int64\n",
      "nstripe      125301 non-null int64\n",
      "stripe0      125301 non-null int64\n",
      "stripeall    125301 non-null int64\n",
      "rate         125301 non-null float64\n",
      "gb           125301 non-null float64\n",
      "dtypes: float64(2), int64(9), object(1)\n",
      "memory usage: 11.5+ MB\n"
     ]
    }
   ],
   "source": [
    "mss.info()"
   ]
  },
  {
   "cell_type": "code",
   "execution_count": 137,
   "metadata": {},
   "outputs": [],
   "source": [
    "cutlf = (mss.gb > 5) & (mss.gb<100)"
   ]
  },
  {
   "cell_type": "code",
   "execution_count": 138,
   "metadata": {},
   "outputs": [
    {
     "data": {
      "text/plain": [
       "<matplotlib.axes._subplots.AxesSubplot at 0x7fec06550780>"
      ]
     },
     "execution_count": 138,
     "metadata": {},
     "output_type": "execute_result"
    },
    {
     "data": {
      "image/png": "[encoded data removed]",
      "text/plain": [
       "<Figure size 640x480 with 1 Axes>"
      ]
     },
     "metadata": {},
     "output_type": "display_data"
    }
   ],
   "source": [
    "bins =range(0,400,10)\n",
    "mss.loc[cutlf & (mss.ttype == 1)].rate.plot.hist(bins=bins)\n",
    "mss.loc[cutlf & (mss.ttype == 0)].rate.plot.hist(bins=bins)"
   ]
  },
  {
   "cell_type": "code",
   "execution_count": 139,
   "metadata": {},
   "outputs": [
    {
     "name": "stderr",
     "output_type": "stream",
     "text": [
      "'c' argument looks like a single numeric RGB or RGBA sequence, which should be avoided as value-mapping will have precedence in case its length matches with 'x' & 'y'.  Please use a 2-D array with a single row if you really want to specify the same RGB or RGBA value for all points.\n"
     ]
    },
    {
     "data": {
      "text/plain": [
       "<matplotlib.axes._subplots.AxesSubplot at 0x7fec064931d0>"
      ]
     },
     "execution_count": 139,
     "metadata": {},
     "output_type": "execute_result"
    },
    {
     "data": {
      "image/png": "[encoded data removed]",
      "text/plain": [
       "<Figure size 640x480 with 1 Axes>"
      ]
     },
     "metadata": {},
     "output_type": "display_data"
    }
   ],
   "source": [
    "mss.loc[cutlf & (mss.ttype==0) & (mss.fsid == 3)].plot.scatter(x='stripe0', y='rate')"
   ]
  },
  {
   "cell_type": "code",
   "execution_count": 140,
   "metadata": {},
   "outputs": [
    {
     "data": {
      "text/html": [
       "<div>\n",
       "<style scoped>\n",
       "    .dataframe tbody tr th:only-of-type {\n",
       "        vertical-align: middle;\n",
       "    }\n",
       "\n",
       "    .dataframe tbody tr th {\n",
       "        vertical-align: top;\n",
       "    }\n",
       "\n",
       "    .dataframe thead th {\n",
       "        text-align: right;\n",
       "    }\n",
       "</style>\n",
       "<table border=\"1\" class=\"dataframe\">\n",
       "  <thead>\n",
       "    <tr style=\"text-align: right;\">\n",
       "      <th></th>\n",
       "      <th></th>\n",
       "      <th>count</th>\n",
       "      <th>min</th>\n",
       "      <th>max</th>\n",
       "      <th>mean</th>\n",
       "      <th>median</th>\n",
       "      <th>var</th>\n",
       "    </tr>\n",
       "    <tr>\n",
       "      <th>fsid</th>\n",
       "      <th>stripe0</th>\n",
       "      <th></th>\n",
       "      <th></th>\n",
       "      <th></th>\n",
       "      <th></th>\n",
       "      <th></th>\n",
       "      <th></th>\n",
       "    </tr>\n",
       "  </thead>\n",
       "  <tbody>\n",
       "    <tr>\n",
       "      <th rowspan=\"5\" valign=\"top\">2</th>\n",
       "      <th>1</th>\n",
       "      <td>604</td>\n",
       "      <td>22.400393</td>\n",
       "      <td>338.347877</td>\n",
       "      <td>148.017020</td>\n",
       "      <td>142.403342</td>\n",
       "      <td>3822.209692</td>\n",
       "    </tr>\n",
       "    <tr>\n",
       "      <th>2</th>\n",
       "      <td>622</td>\n",
       "      <td>23.885822</td>\n",
       "      <td>328.910158</td>\n",
       "      <td>147.441657</td>\n",
       "      <td>143.143250</td>\n",
       "      <td>4000.532259</td>\n",
       "    </tr>\n",
       "    <tr>\n",
       "      <th>3</th>\n",
       "      <td>586</td>\n",
       "      <td>36.139094</td>\n",
       "      <td>352.693127</td>\n",
       "      <td>148.465423</td>\n",
       "      <td>141.613090</td>\n",
       "      <td>4354.360538</td>\n",
       "    </tr>\n",
       "    <tr>\n",
       "      <th>4</th>\n",
       "      <td>567</td>\n",
       "      <td>21.240663</td>\n",
       "      <td>346.678033</td>\n",
       "      <td>153.594784</td>\n",
       "      <td>146.944365</td>\n",
       "      <td>4096.946915</td>\n",
       "    </tr>\n",
       "    <tr>\n",
       "      <th>5</th>\n",
       "      <td>537</td>\n",
       "      <td>33.439072</td>\n",
       "      <td>314.697656</td>\n",
       "      <td>151.591238</td>\n",
       "      <td>147.547324</td>\n",
       "      <td>3865.757831</td>\n",
       "    </tr>\n",
       "  </tbody>\n",
       "</table>\n",
       "</div>"
      ],
      "text/plain": [
       "              count        min         max        mean      median  \\\n",
       "fsid stripe0                                                         \n",
       "2    1          604  22.400393  338.347877  148.017020  142.403342   \n",
       "     2          622  23.885822  328.910158  147.441657  143.143250   \n",
       "     3          586  36.139094  352.693127  148.465423  141.613090   \n",
       "     4          567  21.240663  346.678033  153.594784  146.944365   \n",
       "     5          537  33.439072  314.697656  151.591238  147.547324   \n",
       "\n",
       "                      var  \n",
       "fsid stripe0               \n",
       "2    1        3822.209692  \n",
       "     2        4000.532259  \n",
       "     3        4354.360538  \n",
       "     4        4096.946915  \n",
       "     5        3865.757831  "
      ]
     },
     "execution_count": 140,
     "metadata": {},
     "output_type": "execute_result"
    }
   ],
   "source": [
    "ostrate = mss[cutlf & (mss.ttype == 0)].groupby(['fsid','stripe0']).rate.aggregate(['count', 'min', 'max', 'mean', 'median', 'var'])\n",
    "ostrate.head()"
   ]
  },
  {
   "cell_type": "code",
   "execution_count": 141,
   "metadata": {},
   "outputs": [
    {
     "data": {
      "text/plain": [
       "array([[<matplotlib.axes._subplots.AxesSubplot object at 0x7fec06412a20>,\n",
       "        <matplotlib.axes._subplots.AxesSubplot object at 0x7fec063b8e80>],\n",
       "       [<matplotlib.axes._subplots.AxesSubplot object at 0x7fec063657b8>,\n",
       "        <matplotlib.axes._subplots.AxesSubplot object at 0x7fec06394160>],\n",
       "       [<matplotlib.axes._subplots.AxesSubplot object at 0x7fec06337ac8>,\n",
       "        <matplotlib.axes._subplots.AxesSubplot object at 0x7fec062e7470>]],\n",
       "      dtype=object)"
      ]
     },
     "execution_count": 141,
     "metadata": {},
     "output_type": "execute_result"
    },
    {
     "data": {
      "image/png": "[encoded data removed]",
      "text/plain": [
       "<Figure size 640x480 with 6 Axes>"
      ]
     },
     "metadata": {},
     "output_type": "display_data"
    }
   ],
   "source": [
    "ostrate.hist()"
   ]
  },
  {
   "cell_type": "code",
   "execution_count": 142,
   "metadata": {},
   "outputs": [
    {
     "data": {
      "text/html": [
       "<div>\n",
       "<style scoped>\n",
       "    .dataframe tbody tr th:only-of-type {\n",
       "        vertical-align: middle;\n",
       "    }\n",
       "\n",
       "    .dataframe tbody tr th {\n",
       "        vertical-align: top;\n",
       "    }\n",
       "\n",
       "    .dataframe thead th {\n",
       "        text-align: right;\n",
       "    }\n",
       "</style>\n",
       "<table border=\"1\" class=\"dataframe\">\n",
       "  <thead>\n",
       "    <tr style=\"text-align: right;\">\n",
       "      <th></th>\n",
       "      <th></th>\n",
       "      <th>count</th>\n",
       "      <th>min</th>\n",
       "      <th>max</th>\n",
       "      <th>mean</th>\n",
       "      <th>median</th>\n",
       "      <th>var</th>\n",
       "    </tr>\n",
       "    <tr>\n",
       "      <th>fsid</th>\n",
       "      <th>stripe0</th>\n",
       "      <th></th>\n",
       "      <th></th>\n",
       "      <th></th>\n",
       "      <th></th>\n",
       "      <th></th>\n",
       "      <th></th>\n",
       "    </tr>\n",
       "  </thead>\n",
       "  <tbody>\n",
       "    <tr>\n",
       "      <th rowspan=\"8\" valign=\"top\">3</th>\n",
       "      <th>1</th>\n",
       "      <td>60</td>\n",
       "      <td>14.066719</td>\n",
       "      <td>112.033313</td>\n",
       "      <td>61.054311</td>\n",
       "      <td>63.259706</td>\n",
       "      <td>655.009995</td>\n",
       "    </tr>\n",
       "    <tr>\n",
       "      <th>2</th>\n",
       "      <td>44</td>\n",
       "      <td>25.041059</td>\n",
       "      <td>106.878437</td>\n",
       "      <td>59.641240</td>\n",
       "      <td>57.781030</td>\n",
       "      <td>364.621894</td>\n",
       "    </tr>\n",
       "    <tr>\n",
       "      <th>5</th>\n",
       "      <td>49</td>\n",
       "      <td>21.191476</td>\n",
       "      <td>129.679486</td>\n",
       "      <td>57.558841</td>\n",
       "      <td>47.908815</td>\n",
       "      <td>722.198254</td>\n",
       "    </tr>\n",
       "    <tr>\n",
       "      <th>6</th>\n",
       "      <td>50</td>\n",
       "      <td>22.025246</td>\n",
       "      <td>155.057205</td>\n",
       "      <td>57.769058</td>\n",
       "      <td>52.094899</td>\n",
       "      <td>784.045983</td>\n",
       "    </tr>\n",
       "    <tr>\n",
       "      <th>7</th>\n",
       "      <td>51</td>\n",
       "      <td>11.081765</td>\n",
       "      <td>148.410895</td>\n",
       "      <td>60.536413</td>\n",
       "      <td>53.261505</td>\n",
       "      <td>848.868886</td>\n",
       "    </tr>\n",
       "    <tr>\n",
       "      <th>8</th>\n",
       "      <td>46</td>\n",
       "      <td>13.969455</td>\n",
       "      <td>141.310502</td>\n",
       "      <td>57.168966</td>\n",
       "      <td>52.654254</td>\n",
       "      <td>619.522459</td>\n",
       "    </tr>\n",
       "    <tr>\n",
       "      <th>13</th>\n",
       "      <td>51</td>\n",
       "      <td>21.865913</td>\n",
       "      <td>119.864843</td>\n",
       "      <td>56.126642</td>\n",
       "      <td>52.537578</td>\n",
       "      <td>467.068027</td>\n",
       "    </tr>\n",
       "    <tr>\n",
       "      <th>18</th>\n",
       "      <td>50</td>\n",
       "      <td>20.985151</td>\n",
       "      <td>133.549285</td>\n",
       "      <td>57.387244</td>\n",
       "      <td>44.457475</td>\n",
       "      <td>783.474404</td>\n",
       "    </tr>\n",
       "  </tbody>\n",
       "</table>\n",
       "</div>"
      ],
      "text/plain": [
       "              count        min         max       mean     median         var\n",
       "fsid stripe0                                                                \n",
       "3    1           60  14.066719  112.033313  61.054311  63.259706  655.009995\n",
       "     2           44  25.041059  106.878437  59.641240  57.781030  364.621894\n",
       "     5           49  21.191476  129.679486  57.558841  47.908815  722.198254\n",
       "     6           50  22.025246  155.057205  57.769058  52.094899  784.045983\n",
       "     7           51  11.081765  148.410895  60.536413  53.261505  848.868886\n",
       "     8           46  13.969455  141.310502  57.168966  52.654254  619.522459\n",
       "     13          51  21.865913  119.864843  56.126642  52.537578  467.068027\n",
       "     18          50  20.985151  133.549285  57.387244  44.457475  783.474404"
      ]
     },
     "execution_count": 142,
     "metadata": {},
     "output_type": "execute_result"
    }
   ],
   "source": [
    "q.loc[ostrate['mean']< 100]"
   ]
  },
  {
   "cell_type": "code",
   "execution_count": 157,
   "metadata": {},
   "outputs": [
    {
     "data": {
      "text/plain": [
       "<matplotlib.axes._subplots.AxesSubplot at 0x7fec055e3978>"
      ]
     },
     "execution_count": 157,
     "metadata": {},
     "output_type": "execute_result"
    },
    {
     "data": {
      "image/png": "[encoded data removed]",
      "text/plain": [
       "<Figure size 640x480 with 1 Axes>"
      ]
     },
     "metadata": {},
     "output_type": "display_data"
    }
   ],
   "source": [
    "mss[ mss.gb < 1].gb.plot.hist(bins=100, logy=True)"
   ]
  },
  {
   "cell_type": "code",
   "execution_count": null,
   "metadata": {},
   "outputs": [],
   "source": []
  }
 ],
 "metadata": {
  "kernelspec": {
   "display_name": "Python 3",
   "language": "python",
   "name": "python3"
  },
  "language_info": {
   "codemirror_mode": {
    "name": "ipython",
    "version": 3
   },
   "file_extension": ".py",
   "mimetype": "text/x-python",
   "name": "python",
   "nbconvert_exporter": "python",
   "pygments_lexer": "ipython3",
   "version": "3.7.2"
  }
 },
 "nbformat": 4,
 "nbformat_minor": 2
}
