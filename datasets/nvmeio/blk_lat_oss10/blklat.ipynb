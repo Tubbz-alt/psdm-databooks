{
 "cells": [
  {
   "cell_type": "markdown",
   "metadata": {},
   "source": [
    "# Block layer latencies\n",
    "Blklayer results from reading to the drp nvme-sssd. Each ssd was formatted with zfs.\n",
    "The data are collected: blktrace->blkparse->btt"
   ]
  },
  {
   "cell_type": "code",
   "execution_count": 2,
   "metadata": {},
   "outputs": [],
   "source": [
    "from os.path import join\n",
    "import pandas as pd\n",
    "import matplotlib.pyplot as plt"
   ]
  },
  {
   "cell_type": "code",
   "execution_count": 33,
   "metadata": {},
   "outputs": [],
   "source": [
    "data = { \n",
    "    \"ffb02_write\": \"20180309_ffb02/nvme0n1_write_q2c.csv\", \"ffb02_write_proper\": \"20180309_ffb02/nvme0n1_write_proper_q2c.csv\",\n",
    "        \"ffb03_read\": \"nvme0n1_write_q2c.csv\"\n",
    "       }"
   ]
  },
  {
   "cell_type": "code",
   "execution_count": 34,
   "metadata": {},
   "outputs": [],
   "source": [
    "basepath = \"/reg/data/ana01/temp/xrd/wilko/drp\"\n",
    "#basepath = \"/home/wilko/psdm/data/drp\"\n",
    "\n",
    "# latency data for driver to completion\n",
    "#dq = pd.read_csv(join(basepath, \"2018-03-08-nvme1n1_d2c_latency.csv\"), names=[\"ts\",\"lat\"])\n",
    "# latency data for queue to completion\n",
    "#dq = pd.read_csv(join(basepath, \"2018-03-08-nvme1n1_q2c_latency.csv\"), names=[\"ts\",\"lat\"])\n",
    "#dq = pd.read_csv(join(basepath, \"20180309_ffb03/nvme2n1_write.q2c_lantency_q2c.csv\"), names=[\"ts\",\"lat\"])\n",
    "#dq = pd.read_csv(join(basepath, \"20180309_ffb03/nvme2n1_read_q2c.csv\"), names=[\"ts\",\"lat\"])\n",
    "dq = pd.read_csv(join(basepath, data[\"ffb02_write_proper\"]), names=[\"ts\",\"lat\"])\n",
    "\n",
    "\n",
    "dq.lat *= 1000.   #latency in ms "
   ]
  },
  {
   "cell_type": "code",
   "execution_count": 36,
   "metadata": {},
   "outputs": [
    {
     "data": {
      "image/png": "[encoded data removed]",
      "text/plain": [
       "<matplotlib.figure.Figure at 0x7f066c7ed198>"
      ]
     },
     "metadata": {},
     "output_type": "display_data"
    }
   ],
   "source": [
    "plt.style.use('seaborn')\n",
    "fig = plt.figure(figsize=(15,5))\n",
    "fig.add_subplot(121)\n",
    "cut = (dq.lat < 10000.)\n",
    "dq.loc[cut].lat.hist(bins=90)\n",
    "plt.xlabel(\"latency [ms]\")\n",
    "plt.ylabel(\"count\")\n",
    "plt.title(\"queue->completion latency\")\n",
    "\n",
    "# Select the three peaks and plot how the entries\n",
    "# are distributed in time (even it looks like) \n",
    "fig.add_subplot(122)\n",
    "cut = (dq.lat < 0.1)\n",
    "cut1 = (dq.lat > 0.1) & (dq.lat < 20.0)\n",
    "cut2 = (dq.lat > 20.0) \n",
    "q = dq.loc[cut].ts\n",
    "q1 = dq.loc[cut1].ts\n",
    "q2 = dq.loc[cut2].ts\n",
    "q1.values\n",
    "plt.hist((q.values,q1.values,q2.values)) # stacked=True)\n",
    "plt.xlabel(\"time [s]\")\n",
    "plt.ylabel(\"count (normalized)\")\n",
    "plt.title(\"time distribution for the three peaks\")\n",
    "\n",
    "plt.tight_layout()\n",
    "plt.show()"
   ]
  },
  {
   "cell_type": "code",
   "execution_count": 29,
   "metadata": {},
   "outputs": [
    {
     "data": {
      "text/html": [
       "<div>\n",
       "<style scoped>\n",
       "    .dataframe tbody tr th:only-of-type {\n",
       "        vertical-align: middle;\n",
       "    }\n",
       "\n",
       "    .dataframe tbody tr th {\n",
       "        vertical-align: top;\n",
       "    }\n",
       "\n",
       "    .dataframe thead th {\n",
       "        text-align: right;\n",
       "    }\n",
       "</style>\n",
       "<table border=\"1\" class=\"dataframe\">\n",
       "  <thead>\n",
       "    <tr style=\"text-align: right;\">\n",
       "      <th></th>\n",
       "      <th>ts</th>\n",
       "      <th>lat</th>\n",
       "    </tr>\n",
       "  </thead>\n",
       "  <tbody>\n",
       "    <tr>\n",
       "      <th>count</th>\n",
       "      <td>841106.000000</td>\n",
       "      <td>841106.000000</td>\n",
       "    </tr>\n",
       "    <tr>\n",
       "      <th>mean</th>\n",
       "      <td>56.619329</td>\n",
       "      <td>41.990064</td>\n",
       "    </tr>\n",
       "    <tr>\n",
       "      <th>std</th>\n",
       "      <td>32.545913</td>\n",
       "      <td>30.226045</td>\n",
       "    </tr>\n",
       "    <tr>\n",
       "      <th>min</th>\n",
       "      <td>0.000101</td>\n",
       "      <td>0.007000</td>\n",
       "    </tr>\n",
       "    <tr>\n",
       "      <th>25%</th>\n",
       "      <td>28.388094</td>\n",
       "      <td>12.539000</td>\n",
       "    </tr>\n",
       "    <tr>\n",
       "      <th>50%</th>\n",
       "      <td>56.565495</td>\n",
       "      <td>39.702000</td>\n",
       "    </tr>\n",
       "    <tr>\n",
       "      <th>75%</th>\n",
       "      <td>84.186337</td>\n",
       "      <td>66.750750</td>\n",
       "    </tr>\n",
       "    <tr>\n",
       "      <th>max</th>\n",
       "      <td>119.998320</td>\n",
       "      <td>110.099000</td>\n",
       "    </tr>\n",
       "  </tbody>\n",
       "</table>\n",
       "</div>"
      ],
      "text/plain": [
       "                  ts            lat\n",
       "count  841106.000000  841106.000000\n",
       "mean       56.619329      41.990064\n",
       "std        32.545913      30.226045\n",
       "min         0.000101       0.007000\n",
       "25%        28.388094      12.539000\n",
       "50%        56.565495      39.702000\n",
       "75%        84.186337      66.750750\n",
       "max       119.998320     110.099000"
      ]
     },
     "execution_count": 29,
     "metadata": {},
     "output_type": "execute_result"
    }
   ],
   "source": [
    "dq.loc[dq.lat<110.1].describe()"
   ]
  },
  {
   "cell_type": "code",
   "execution_count": null,
   "metadata": {},
   "outputs": [],
   "source": []
  }
 ],
 "metadata": {
  "kernelspec": {
   "display_name": "Python 3",
   "language": "python",
   "name": "python3"
  },
  "language_info": {
   "codemirror_mode": {
    "name": "ipython",
    "version": 3
   },
   "file_extension": ".py",
   "mimetype": "text/x-python",
   "name": "python",
   "nbconvert_exporter": "python",
   "pygments_lexer": "ipython3",
   "version": "3.6.4"
  }
 },
 "nbformat": 4,
 "nbformat_minor": 2
}
